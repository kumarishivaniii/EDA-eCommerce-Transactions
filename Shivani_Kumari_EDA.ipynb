import pandas as pd
import numpy as np
import matplotlib.pyplot as plt
import seaborn as sns
from datetime import datetime

# Load datasets
customers = pd.read_csv("Customers.csv")
products = pd.read_csv("Products.csv")
transactions = pd.read_csv("Transactions.csv")
# Display basic info
print(customers.info())
print(products.info())
print(transactions.info())
# Display basic info
print(customers.info())
print(products.info())
print(transactions.info())
# Preview datasets
print(customers.head())
print(products.head())
print(transactions.head())
# Check for missing values
print(customers.isnull().sum())
print(products.isnull().sum())
print(transactions.isnull().sum())
# Convert dates to datetime format
customers['SignupDate'] = pd.to_datetime(customers['SignupDate'])
transactions['TransactionDate'] = pd.to_datetime(transactions['TransactionDate'])
# Handle any missing or inconsistent data (if necessary)
transactions['Price'] = transactions['Price'].fillna(transactions['Price'].mean())  # Example handling
# Merge transactions with customers and products
merged = transactions.merge(customers, on="CustomerID").merge(products, on="ProductID")
 #Preview merged dataset
print(merged.head())

region_revenue = merged.groupby('Region')['TotalValue'].sum().sort_values(ascending=False)
print(region_revenue)
region_revenue.plot(kind='bar', title="Revenue by Region", figsize=(8, 5))
plt.show()

category_sales = merged.groupby('Category')['Quantity'].sum().sort_values(ascending=False)
print(category_sales)
category_sales.plot(kind='bar', title="Best-Selling Product Categories", figsize=(8, 5))
plt.show()

merged['Month'] = merged['TransactionDate'].dt.month
monthly_sales = merged.groupby('Month')['TotalValue'].sum()
print(monthly_sales)
monthly_sales.plot(kind='line', title="Monthly Sales Trend", marker='o', figsize=(8, 5))
plt.show()

clv = merged.groupby('CustomerID')['TotalValue'].sum()
print(clv.describe())  # Summary statistics for CLV

print(merged.columns)
print(transactions.columns)
merged = transactions.merge(customers, on='CustomerID').merge(products, on='ProductID')
transactions['Price'] = transactions['TotalValue'] / transactions['Quantity']
